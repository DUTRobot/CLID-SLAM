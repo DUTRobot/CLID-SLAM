{
 "cells": [
  {
   "metadata": {},
   "cell_type": "code",
   "outputs": [],
   "execution_count": null,
   "source": [
    "import os\n",
    "import sys\n",
    "import csv\n",
    "import yaml\n",
    "import numpy as np\n",
    "import open3d as o3d\n",
    "from rosbag import Bag"
   ],
   "id": "2ea90e0351ac99dd"
  },
  {
   "metadata": {},
   "cell_type": "markdown",
   "source": "# Merge Multiple ROSbag Files",
   "id": "7bc6c26b767ca971"
  },
  {
   "metadata": {},
   "cell_type": "code",
   "outputs": [],
   "execution_count": null,
   "source": [
    "\n",
    "def merge():\n",
    "    input_folder = \"xxxxxx\"\n",
    "    output_folder = \"xxxxxxx\"\n",
    "    outbag_name = \"xxxxx\"\n",
    "    input_bags = os.listdir(input_folder)\n",
    "    input_bags.sort()  # 根据文件名进行排序\n",
    "    print(\"Writing bag file: \" + outbag_name)\n",
    "\n",
    "    with Bag(os.path.join(output_folder, outbag_name), 'w') as ob:\n",
    "        for ifile in input_bags:\n",
    "            print(\"> Reading bag file: \" + ifile)\n",
    "            with Bag(os.path.join(input_folder, ifile), 'r') as ib:\n",
    "                for topic, msg, t in ib:\n",
    "                    ob.write(topic, msg, t)\n",
    "merge()"
   ],
   "id": "7de5937f52f49bc"
  },
  {
   "metadata": {},
   "cell_type": "markdown",
   "source": [
    "\n",
    "# Convert Pose Format"
   ],
   "id": "dbb04396689dba20"
  },
  {
   "metadata": {},
   "cell_type": "code",
   "outputs": [],
   "execution_count": null,
   "source": [
    "# 该文件的作用是将csv格式转换为标准的tum位姿格式\n",
    "\n",
    "input_file = './dataset/SubT_MRS/SubT_MRS_Urban_Challenge_UGV2/poses/ground_truth_path.csv'\n",
    "output_file = './dataset/SubT_MRS/SubT_MRS_Urban_Challenge_UGV2/poses/gt_poses_tum.txt'\n",
    "\n",
    "with open(input_file, 'r') as file:\n",
    "    reader = csv.reader(file)\n",
    "    header = next(reader)  # Skip the header\n",
    "    with open(output_file, 'w') as outfile:\n",
    "        for row in reader:\n",
    "            nsec, x, y, z, qx, qy, qz, qw = map(float, row)\n",
    "            sec = nsec * 1e-9  # Convert nanoseconds to seconds\n",
    "            output_line = f\"{sec} {x} {y} {z} {qx} {qy} {qz} {qw}\\n\"\n",
    "            outfile.write(output_line)\n",
    "\n",
    "print(\"Conversion completed, file saved as\", output_file)\n"
   ],
   "id": "38bfd4ef6b5b3eea"
  },
  {
   "metadata": {},
   "cell_type": "markdown",
   "source": [
    "\n",
    "# Mapping Performance Evaluation\n"
   ],
   "id": "d7bda514d936edca"
  },
  {
   "metadata": {},
   "cell_type": "code",
   "outputs": [],
   "execution_count": null,
   "source": [
    "def quaternion_to_rotation_matrix(qx, qy, qz, qw):\n",
    "    \"\"\"\n",
    "    将四元数转换为旋转矩阵。\n",
    "\n",
    "    输入:\n",
    "    - qx, qy, qz, qw: 四元数的分量\n",
    "\n",
    "    返回:\n",
    "    - rotation_matrix: 3x3的旋转矩阵\n",
    "    \"\"\"\n",
    "    # 四元数的归一化\n",
    "    norm = np.sqrt(qx * qx + qy * qy + qz * qz + qw * qw)\n",
    "    qx /= norm\n",
    "    qy /= norm\n",
    "    qz /= norm\n",
    "    qw /= norm\n",
    "\n",
    "    # 计算旋转矩阵\n",
    "    rotation_matrix = np.array([\n",
    "        [1 - 2 * (qy * qy + qz * qz), 2 * (qx * qy - qz * qw), 2 * (qx * qz + qy * qw)],\n",
    "        [2 * (qx * qy + qz * qw), 1 - 2 * (qx * qx + qz * qz), 2 * (qy * qz - qx * qw)],\n",
    "        [2 * (qx * qz - qy * qw), 2 * (qy * qz + qx * qw), 1 - 2 * (qx * qx + qy * qy)]\n",
    "    ])\n",
    "\n",
    "    return rotation_matrix"
   ],
   "id": "5431eea935e8ad5e"
  },
  {
   "metadata": {},
   "cell_type": "markdown",
   "source": [
    "\n",
    "## Newer College Dataset Ncd Sequence\n",
    "#%%\n",
    "# ImMesh\n",
    "matrix_values = [\n",
    "    5.304626993818075675e-01, -8.474622417882305969e-01, 2.042261633276983360e-02, -8.377865843928848644e-02,\n",
    "    8.463450710843981595e-01, 5.308216667107832354e-01, 4.391332211528171242e-02, 3.370663104058911230e+00,\n",
    "    -4.805564502133059107e-02, -6.009799083416286596e-03, 9.988265833638158009e-01, 7.037440120229881968e-01\n",
    "]\n",
    "T_lidar = np.vstack([np.array(matrix_values).reshape(3, 4), [0, 0, 0, 1]])\n",
    "\n",
    "T_lidar_imu = np.array([[-1.0, 0, 0, -0.006253],\n",
    "                        [0, -1.0, 0, 0.011775],\n",
    "                        [0, 0, 1.0, -0.028535],\n",
    "                        [0, 0, 0, 1]])\n"
   ],
   "id": "ee6bf9298b9566ea"
  },
  {
   "metadata": {},
   "cell_type": "markdown",
   "source": "## Newer College Dataset Extension Math Easy Sequence",
   "id": "c864e629b6013c7c"
  },
  {
   "metadata": {},
   "cell_type": "code",
   "outputs": [],
   "execution_count": null,
   "source": [
    "T_lidar = np.eye(4)\n",
    "\n",
    "# SLAMesh\n",
    "T_lidar[:3, :3] = quaternion_to_rotation_matrix(-0.00987445, 0.00774057, 0.842868, 0.537974)\n",
    "T_lidar[:3, 3] = np.array([-23.7176, -31.2646, 1.03258])\n",
    "\n",
    "# ImMesh\n",
    "# T_lidar[:3, :3] = quaternion_to_rotation_matrix(-0.00248205, 0.00444627, 0.842838, 0.538143)\n",
    "# T_lidar[:3, 3] = np.array([-23.7202, -31.2861, 1.04326])\n",
    "\n",
    "T_lidar_imu = np.array([\n",
    "    [1.0, 0, 0, 0.014],\n",
    "    [0, 1.0, 0, -0.012],\n",
    "    [0, 0, 1.0, -0.015],\n",
    "    [0, 0, 0, 1.0]])\n",
    "\n",
    "T = T_lidar @ T_lidar_imu"
   ],
   "id": "e9a22013e913de27"
  },
  {
   "metadata": {},
   "cell_type": "markdown",
   "source": "## Transform Mesh To Align The Ground Truth",
   "id": "61456f82338bb7e0"
  },
  {
   "metadata": {},
   "cell_type": "code",
   "outputs": [],
   "execution_count": null,
   "source": [
    "def mesh_transform():\n",
    "    mesh_file = \"./math_easy.ply\"\n",
    "    output_file = \"./math_easy_transformed.ply\"\n",
    "\n",
    "    if not os.path.exists(mesh_file):\n",
    "        sys.exit(f\"Mesh file {mesh_file} does not exist.\")\n",
    "    print(\"Loading Mesh file: \", mesh_file)\n",
    "\n",
    "    # Load Mesh\n",
    "    mesh = o3d.io.read_triangle_mesh(mesh_file)\n",
    "    mesh.compute_vertex_normals()\n",
    "    transformation_matrix = np.array([[-4.20791735e-01, -9.07157072e-01,  6.01526210e-04, -2.37152142e+01],\n",
    "                                      [ 9.07112929e-01, -4.20764518e-01,  1.01663692e-02, -3.12685037e+01],\n",
    "                                      [-8.96939285e-03,  4.82357635e-03,  9.99948140e-01,  1.02807732e+00],\n",
    "                                      [ 0.00000000e+00,  0.00000000e+00,  0.00000000e+00,  1.00000000e+00]])\n",
    "\n",
    "    mesh.transform(transformation_matrix)\n",
    "    o3d.io.write_triangle_mesh(output_file, mesh)\n",
    "\n",
    "mesh_transform()"
   ],
   "id": "532df31dd565ed8b"
  },
  {
   "metadata": {},
   "cell_type": "markdown",
   "source": "# Visualize Mesh\n",
   "id": "52c9c86e3ad5e34f"
  },
  {
   "metadata": {},
   "cell_type": "code",
   "outputs": [],
   "execution_count": null,
   "source": [
    "def vis_mesh():\n",
    "    mesh_file = \"./ours_mesh_20cm.ply\"  # the path of the mesh which you want to visualize\n",
    "    if not os.path.exists(mesh_file):\n",
    "        sys.exit(f\"Mesh file {mesh_file} does not exist.\")\n",
    "    print(\"Loading Mesh file: \", mesh_file)\n",
    "\n",
    "    # Load the mesh\n",
    "    mesh = o3d.io.read_triangle_mesh(mesh_file)\n",
    "    mesh.compute_vertex_normals()\n",
    "    # Check if the mesh was loaded successfully\n",
    "    if not mesh.has_vertices():\n",
    "        sys.exit(\"Failed to load the mesh. No vertices found.\")\n",
    "    vis = o3d.visualization.Visualizer()\n",
    "    vis.create_window(window_name=\"Mesh Visualization\")\n",
    "    vis.add_geometry(mesh)\n",
    "    opt = vis.get_render_option()\n",
    "    opt.light_on = True  # Enable lighting to show the mesh color\n",
    "    opt.mesh_show_back_face = True\n",
    "    # Enable shortcuts in the console (e.g., Ctrl+9)\n",
    "    vis.run()\n",
    "    vis.destroy_window()\n",
    "\n",
    "vis_mesh()"
   ],
   "id": "abe2bf68d78b341e"
  }
 ],
 "metadata": {
  "kernelspec": {
   "display_name": "Python 3",
   "language": "python",
   "name": "python3"
  },
  "language_info": {
   "codemirror_mode": {
    "name": "ipython",
    "version": 2
   },
   "file_extension": ".py",
   "mimetype": "text/x-python",
   "name": "python",
   "nbconvert_exporter": "python",
   "pygments_lexer": "ipython2",
   "version": "2.7.6"
  }
 },
 "nbformat": 4,
 "nbformat_minor": 5
}
